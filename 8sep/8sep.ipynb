{
 "cells": [
  {
   "cell_type": "code",
   "execution_count": 2,
   "id": "55bf4da0",
   "metadata": {},
   "outputs": [
    {
     "name": "stdout",
     "output_type": "stream",
     "text": [
      "['1.sqrt', '2.fact', '3.sin', '4.cos']\n",
      "enter choice\n",
      "120\n"
     ]
    }
   ],
   "source": [
    "#simple calculator\n",
    "import os,math\n",
    "n=int(input(\"enter number to perform\"))\n",
    "list=[\"1.sqrt\",\"2.fact\",\"3.sin\",\"4.cos\"]\n",
    "print(list)\n",
    "ch=int(input(\"enter choice\"))\n",
    "print(\"enter choice\")\n",
    "def sqrt(n):\n",
    "    return math.sqrt(n)\n",
    "def  fact(n):\n",
    "    if n==0 or n==1:  \n",
    "        return 1\n",
    "    else:\n",
    "        return n*fact(n-1)\n",
    "def sin(n):\n",
    "    return math.sin(n)\n",
    "def cos(n):\n",
    "    return math.cos(n)\n",
    "if ch==1:\n",
    "    print(sqrt(n))\n",
    "elif ch==2:\n",
    "    print(fact(n))\n",
    "elif ch==3:\n",
    "    print(sin(n))\n",
    "elif ch==4:\n",
    "    print(cos(n))\n",
    "else:\n",
    "    print(\"Invalid choice\")\n",
    "\n",
    "    \n",
    "\n",
    "    "
   ]
  },
  {
   "cell_type": "code",
   "execution_count": 3,
   "id": "c67c77be",
   "metadata": {},
   "outputs": [
    {
     "name": "stdout",
     "output_type": "stream",
     "text": [
      "Counter({'cat': 3, 'doig': 1})\n"
     ]
    }
   ],
   "source": [
    "#frequency counter\n",
    "from collections import Counter\n",
    "\n",
    "sentence = input(\"Enter a sentence: \")  # Example input: \"cat dog cat\"\n",
    "words = sentence.split()  # Split sentence into words\n",
    "\n",
    "word_counts = Counter(words)  # Count word frequencies\n",
    "\n",
    "print(word_counts)\n"
   ]
  },
  {
   "cell_type": "code",
   "execution_count": 5,
   "id": "8d43c486",
   "metadata": {},
   "outputs": [
    {
     "name": "stdout",
     "output_type": "stream",
     "text": [
      "temperature stormy\n",
      "weather 16\n"
     ]
    }
   ],
   "source": [
    "import random\n",
    "weather=[\"sunny\",\"rainy\",\"windy\",\"stormy\"]\n",
    "print(\"temperature\",random.choice(weather))\n",
    "print(\"weather\",random.randint(1,50))\n",
    "\n"
   ]
  },
  {
   "cell_type": "code",
   "execution_count": null,
   "id": "fdc4c2ad",
   "metadata": {},
   "outputs": [],
   "source": [
    "import time\n",
    "c"
   ]
  },
  {
   "cell_type": "code",
   "execution_count": 1,
   "id": "1d381b70",
   "metadata": {},
   "outputs": [
    {
     "ename": "SyntaxError",
     "evalue": "incomplete input (2651550455.py, line 1)",
     "output_type": "error",
     "traceback": [
      "  \u001b[36mCell\u001b[39m\u001b[36m \u001b[39m\u001b[32mIn[1]\u001b[39m\u001b[32m, line 1\u001b[39m\n\u001b[31m    \u001b[39m\u001b[31mclass Addition():\u001b[39m\n                     ^\n\u001b[31mSyntaxError\u001b[39m\u001b[31m:\u001b[39m incomplete input\n"
     ]
    }
   ],
   "source": [
    "class Addition():"
   ]
  },
  {
   "cell_type": "code",
   "execution_count": null,
   "id": "b19bd8de",
   "metadata": {},
   "outputs": [
    {
     "ename": "NameError",
     "evalue": "name 'self' is not defined",
     "output_type": "error",
     "traceback": [
      "\u001b[31m---------------------------------------------------------------------------\u001b[39m",
      "\u001b[31mNameError\u001b[39m                                 Traceback (most recent call last)",
      "\u001b[36mCell\u001b[39m\u001b[36m \u001b[39m\u001b[32mIn[8]\u001b[39m\u001b[32m, line 12\u001b[39m\n\u001b[32m      8\u001b[39m         c = a + b\n\u001b[32m      9\u001b[39m         \u001b[38;5;28mprint\u001b[39m(c)\n\u001b[32m---> \u001b[39m\u001b[32m12\u001b[39m Addition.add(\u001b[38;5;28;43mself\u001b[39;49m)\n",
      "\u001b[31mNameError\u001b[39m: name 'self' is not defined"
     ]
    }
   ],
   "source": [
    "class Addition:\n",
    "    \n",
    "    @staticmethod\n",
    "    def add():\n",
    "        a = 10\n",
    "        b = 20\n",
    "       \n",
    "        c = a + b\n",
    "        print(c)\n",
    "\n",
    "\n",
    "Addition.add()\n"
   ]
  },
  {
   "cell_type": "code",
   "execution_count": null,
   "id": "0e086b2d",
   "metadata": {},
   "outputs": [],
   "source": [
    "class BankAccount:\n",
    "    balance=5000\n",
    "    owner=\"koushik\"\n",
    "    def deposit(self,amount):\n",
    "        c=self.balance + amount\n",
    "        print(\"deposited\")\n",
    "    def withdraw(self,amount):\n",
    "        c=self.balance-amount\n",
    "        print(\"withdraw succesfull\")\n",
    "    def get_balance(self):\n",
    "        c=self.balance\n",
    "        print(\"balance:\",c)\n",
    "bal=BankAccount()\n",
    "bal.deposit()\n",
    "bal.withdraw()\n",
    "bal.get_balance()\n",
    "\n",
    "\n",
    "\n",
    "        "
   ]
  },
  {
   "cell_type": "code",
   "execution_count": null,
   "id": "b5404f48",
   "metadata": {},
   "outputs": [],
   "source": []
  }
 ],
 "metadata": {
  "kernelspec": {
   "display_name": "Python 3",
   "language": "python",
   "name": "python3"
  },
  "language_info": {
   "codemirror_mode": {
    "name": "ipython",
    "version": 3
   },
   "file_extension": ".py",
   "mimetype": "text/x-python",
   "name": "python",
   "nbconvert_exporter": "python",
   "pygments_lexer": "ipython3",
   "version": "3.11.13"
  }
 },
 "nbformat": 4,
 "nbformat_minor": 5
}
