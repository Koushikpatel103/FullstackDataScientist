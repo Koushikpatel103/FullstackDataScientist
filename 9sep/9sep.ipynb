{
 "cells": [
  {
   "cell_type": "code",
   "execution_count": null,
   "id": "5e26ee72",
   "metadata": {},
   "outputs": [
    {
     "data": {
      "text/plain": [
       "Counter({'apple': 2, 'banana': 2, 'orange': 1})"
      ]
     },
     "execution_count": 1,
     "metadata": {},
     "output_type": "execute_result"
    }
   ],
   "source": [
    "#counting unique words\n",
    "\n",
    "from collections import Counter\n",
    "list=\"apple banana apple orange banana\"\n",
    "a=list.split()\n",
    "Counter(a)\n"
   ]
  },
  {
   "cell_type": "code",
   "execution_count": 4,
   "id": "1dfaadb0",
   "metadata": {},
   "outputs": [
    {
     "name": "stdout",
     "output_type": "stream",
     "text": [
      "You borrowed Python 101\n",
      "You returned Python 101\n",
      "Available books: {'Python 101': 3, 'Data Science': 2}\n"
     ]
    }
   ],
   "source": [
    "class Library:\n",
    "    def __init__(self, books):\n",
    "        # books is a dictionary: {title: stock}\n",
    "        self.books = books\n",
    "\n",
    "    def borrow(self, title):\n",
    "        if title in self.books and self.books[title] > 0:\n",
    "            self.books[title] -= 1\n",
    "            return f\"You borrowed {title}\"\n",
    "        else:\n",
    "            return f\"Sorry, {title} is not available\"\n",
    "\n",
    "    def return_book(self, title):\n",
    "        if title in self.books:\n",
    "            self.books[title] += 1\n",
    "        else:\n",
    "            # Add the book if it didn't exist before\n",
    "            self.books[title] = 1\n",
    "        return f\"You returned {title}\"\n",
    "\n",
    "    def show_books(self):\n",
    "        return f\"Available books: {self.books}\"\n",
    "\n",
    "\n",
    "# Sample Usage\n",
    "lib = Library({\"Python 101\": 3, \"Data Science\": 2})\n",
    "\n",
    "print(lib.borrow(\"Python 101\"))\n",
    "print(lib.return_book(\"Python 101\"))\n",
    "print(lib.show_books())\n"
   ]
  },
  {
   "cell_type": "code",
   "execution_count": 7,
   "id": "fb3c40f0",
   "metadata": {},
   "outputs": [
    {
     "name": "stdout",
     "output_type": "stream",
     "text": [
      "word count: 15\n"
     ]
    }
   ],
   "source": [
    "f=open(\"example.txt\",\"r\")\n",
    "a=f.read()\n",
    "a.split()\n",
    "count=len(a)\n",
    "print(\"word count:\",count)\n"
   ]
  },
  {
   "cell_type": "code",
   "execution_count": 20,
   "id": "5f46f2c8",
   "metadata": {},
   "outputs": [
    {
     "name": "stdout",
     "output_type": "stream",
     "text": [
      "Weak\n"
     ]
    }
   ],
   "source": [
    "#password is strong\n",
    "import string\n",
    "password=\"Kou@663\"\n",
    "if len(password)<8:\n",
    "    print(\"Weak\")\n",
    "\n",
    "elif not any(char in string.ascii_uppercase for char in password):\n",
    "        print(\"weak\")\n",
    "elif not any(char in string.ascii_lowercase for char in password):\n",
    "        print(\"weak\")\n",
    "elif not any(char in string.digits for char in password):\n",
    "        print(\"weak\")\n",
    "elif not any(char in string.punctuation for char in password):\n",
    "        print(\"weak\")\n",
    "else:\n",
    "    print(\"Strong password \")\n",
    " \n"
   ]
  },
  {
   "cell_type": "code",
   "execution_count": 6,
   "id": "bac3e3c6",
   "metadata": {},
   "outputs": [
    {
     "name": "stdout",
     "output_type": "stream",
     "text": [
      "['koushik', 'shiva']\n"
     ]
    }
   ],
   "source": [
    "#duplcate values\n",
    "#we can use set and count function also\n",
    "students=[\"koushik\",\"koushik\",\"koushik\",\"shiva\"]\n",
    "duplicates=[]\n",
    "student=[]\n",
    "for name in students:\n",
    "    if name in students and name not in duplicates:\n",
    "        duplicates.append(name)\n",
    "else:\n",
    "    student.append(name)\n",
    "print(duplicates)"
   ]
  },
  {
   "cell_type": "code",
   "execution_count": null,
   "id": "5b07cff0",
   "metadata": {},
   "outputs": [],
   "source": [
    "#celsius to fareheit\n",
    "fahrenheit = (celsius * 9/5) + 32"
   ]
  },
  {
   "cell_type": "code",
   "execution_count": 11,
   "id": "aa7b210f",
   "metadata": {},
   "outputs": [
    {
     "name": "stdout",
     "output_type": "stream",
     "text": [
      "shiva\n"
     ]
    }
   ],
   "source": [
    "dict={\"koushik\":89,\"shiva\":70}\n",
    "for i,j in dict.items():\n",
    "    if j<75:\n",
    "        print(i)\n",
    "    \n"
   ]
  },
  {
   "cell_type": "code",
   "execution_count": 3,
   "id": "ba2e948a",
   "metadata": {},
   "outputs": [
    {
     "name": "stdout",
     "output_type": "stream",
     "text": [
      "not prime\n"
     ]
    }
   ],
   "source": [
    "#prime number\n",
    "n=6\n",
    "for i in range(1,int(n*0.5)+1):\n",
    "    if n%2==0:\n",
    "        print(\"not prime\")\n",
    "        break\n",
    "    else:\n",
    "        print(\"prime\")\n",
    "        break\n"
   ]
  },
  {
   "cell_type": "code",
   "execution_count": 1,
   "id": "31046cd2",
   "metadata": {},
   "outputs": [
    {
     "name": "stdout",
     "output_type": "stream",
     "text": [
      "1110\n"
     ]
    }
   ],
   "source": [
    "dict={\"food\":50,\"drinks\":60,\"gym\":1000}\n",
    "sum=0\n",
    "for i,j in dict.items():\n",
    "    sum+=j\n",
    "print(sum)"
   ]
  },
  {
   "cell_type": "code",
   "execution_count": 4,
   "id": "3b1684b4",
   "metadata": {},
   "outputs": [
    {
     "name": "stdout",
     "output_type": "stream",
     "text": [
      "Counter({'k': 2, 'o': 1, 'u': 1, 's': 1, 'h': 1, 'i': 1})\n"
     ]
    }
   ],
   "source": [
    "#count each cahar\n",
    "from collections import Counter\n",
    "str=\"koushik\"\n",
    "print(Counter(str))"
   ]
  },
  {
   "cell_type": "code",
   "execution_count": 13,
   "id": "623532c1",
   "metadata": {},
   "outputs": [
    {
     "ename": "TypeError",
     "evalue": "'str' object is not callable",
     "output_type": "error",
     "traceback": [
      "\u001b[31m---------------------------------------------------------------------------\u001b[39m",
      "\u001b[31mTypeError\u001b[39m                                 Traceback (most recent call last)",
      "\u001b[36mCell\u001b[39m\u001b[36m \u001b[39m\u001b[32mIn[13]\u001b[39m\u001b[32m, line 3\u001b[39m\n\u001b[32m      1\u001b[39m \u001b[38;5;66;03m# reverse number\u001b[39;00m\n\u001b[32m      2\u001b[39m n=\u001b[32m1234\u001b[39m\n\u001b[32m----> \u001b[39m\u001b[32m3\u001b[39m a=\u001b[38;5;28;43mstr\u001b[39;49m\u001b[43m(\u001b[49m\u001b[43mn\u001b[49m\u001b[43m)\u001b[49m\n\u001b[32m      4\u001b[39m x=a[::-\u001b[32m1\u001b[39m]\n\u001b[32m      5\u001b[39m \u001b[38;5;28mprint\u001b[39m(\u001b[38;5;28mint\u001b[39m(x))\n",
      "\u001b[31mTypeError\u001b[39m: 'str' object is not callable"
     ]
    }
   ],
   "source": [
    "# reverse number\n",
    "n=1234\n",
    "a=str(n)\n",
    "x=a[::-1]\n",
    "print(int(x))\n"
   ]
  },
  {
   "cell_type": "code",
   "execution_count": null,
   "id": "75e10872",
   "metadata": {},
   "outputs": [
    {
     "name": "stdout",
     "output_type": "stream",
     "text": [
      "['jungle', 'king', 'kosuhik', 'of']\n"
     ]
    }
   ],
   "source": [
    "#sorting of the list\n",
    "list=[\"kosuhik\",\"king\",\"of\",\"jungle\"]\n",
    "list.sort()\n",
    "print(list)"
   ]
  },
  {
   "cell_type": "code",
   "execution_count": null,
   "id": "02674e32",
   "metadata": {},
   "outputs": [
    {
     "name": "stdout",
     "output_type": "stream",
     "text": [
      "4 2 2\n"
     ]
    }
   ],
   "source": [
    "#count positive negative and zeroes\n",
    "list=[1,2,3,4,-1,0,0,-1]\n",
    "n=0\n",
    "p=0\n",
    "z=0\n",
    "for i in list:\n",
    "    if i>0:\n",
    "        p+=1\n",
    "    elif i<0:\n",
    "        n+=1\n",
    "    else:\n",
    "        z+=1\n",
    "print(p,n,z)"
   ]
  },
  {
   "cell_type": "code",
   "execution_count": null,
   "id": "3db1fc85",
   "metadata": {},
   "outputs": [
    {
     "name": "stdout",
     "output_type": "stream",
     "text": [
      "10\n"
     ]
    }
   ],
   "source": [
    "#sum of digits\n",
    "n=1234\n",
    "sum=0\n",
    "while n>0:\n",
    "    digit=n%10\n",
    "    sum=sum+digit\n",
    "    n=n//10\n",
    "print(sum)"
   ]
  },
  {
   "cell_type": "code",
   "execution_count": 35,
   "id": "d84e77a3",
   "metadata": {},
   "outputs": [
    {
     "name": "stdout",
     "output_type": "stream",
     "text": [
      "invalid\n",
      "invalid\n",
      "invalid\n",
      "operation terminated\n"
     ]
    }
   ],
   "source": [
    "pin=1234\n",
    "n=0\n",
    "while n<3:\n",
    "   \n",
    "    a=int(input(\"Enter the pin\"))\n",
    "    if a==pin:\n",
    "        print(\"corect pin\")\n",
    "        break\n",
    "    else:\n",
    "        print(\"invalid\")\n",
    "        n+=1\n",
    "if n==3:\n",
    "    print(\"operation terminated\")"
   ]
  }
 ],
 "metadata": {
  "kernelspec": {
   "display_name": "Python 3",
   "language": "python",
   "name": "python3"
  },
  "language_info": {
   "codemirror_mode": {
    "name": "ipython",
    "version": 3
   },
   "file_extension": ".py",
   "mimetype": "text/x-python",
   "name": "python",
   "nbconvert_exporter": "python",
   "pygments_lexer": "ipython3",
   "version": "3.11.13"
  }
 },
 "nbformat": 4,
 "nbformat_minor": 5
}
